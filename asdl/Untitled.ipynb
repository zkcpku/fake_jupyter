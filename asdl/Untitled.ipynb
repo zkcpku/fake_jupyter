{
 "cells": [
  {
   "cell_type": "code",
   "execution_count": 1,
   "metadata": {},
   "outputs": [],
   "source": [
    "from getast import *"
   ]
  },
  {
   "cell_type": "code",
   "execution_count": 2,
   "metadata": {},
   "outputs": [
    {
     "name": "stdout",
     "output_type": "stream",
     "text": [
      "String representation of the ASDL AST: \n",
      "(Expr (expr-value (Call (expr-func (Attribute (expr-value (Name (identifier-id pandas))) (identifier-attr read))) (expr*-args (Str (string-s file.csv))) (keyword*-keywords (keyword (identifier?-arg nrows) (expr-value (Num (object-n 100))))))))\n",
      "Size of the AST: 12\n",
      "[Field(expr value)]\n"
     ]
    }
   ],
   "source": [
    "asdl_text = open('py3_asdl.simplified.txt').read()\n",
    "grammar = ASDLGrammar.from_text(asdl_text)\n",
    "py_code = \"\"\"pandas.read('file.csv', nrows=100)\"\"\"\n",
    "# get the (domain-specific) python AST of the example Python code snippet\n",
    "py_ast = ast.parse(py_code)\n",
    "# convert the python AST into general-purpose ASDL AST used by tranX\n",
    "asdl_ast = python_ast_to_asdl_ast(py_ast.body[0], grammar)\n",
    "print('String representation of the ASDL AST: \\n%s' % asdl_ast.to_string())\n",
    "print('Size of the AST: %d' % asdl_ast.size)\n",
    "# we can also convert the ASDL AST back into Python AST\n",
    "py_ast_reconstructed = asdl_ast_to_python_ast(asdl_ast, grammar)\n",
    "src1 = astor.to_source(py_ast).strip()\n",
    "src2 = astor.to_source(py_ast_reconstructed).strip()\n",
    "print(asdl_ast.fields)\n",
    "assert src1 == src2  == \"pandas.read('file.csv', nrows=100)\""
   ]
  },
  {
   "cell_type": "code",
   "execution_count": 4,
   "metadata": {},
   "outputs": [],
   "source": [
    "tmp_field = asdl_ast.fields[0]"
   ]
  },
  {
   "cell_type": "code",
   "execution_count": 10,
   "metadata": {},
   "outputs": [
    {
     "data": {
      "text/plain": [
       "[expr -> Call(expr func, expr* args, keyword* keywords)]"
      ]
     },
     "execution_count": 10,
     "metadata": {},
     "output_type": "execute_result"
    }
   ],
   "source": [
    "tmp_field.as_value_list"
   ]
  },
  {
   "cell_type": "code",
   "execution_count": 12,
   "metadata": {},
   "outputs": [
    {
     "data": {
      "text/plain": [
       "'Expr'"
      ]
     },
     "execution_count": 12,
     "metadata": {},
     "output_type": "execute_result"
    }
   ],
   "source": []
  },
  {
   "cell_type": "code",
   "execution_count": 21,
   "metadata": {},
   "outputs": [],
   "source": [
    "rst_list = []\n",
    "def to_dict(node,add_list):\n",
    "    if type(node) == type(\" \"):\n",
    "        add_list.append({'name':node,'children':[]})\n",
    "        return\n",
    "    this_dict = {'name':node.production.constructor.name,'children':[]}\n",
    "    add_list.append(this_dict)\n",
    "    for field in node.fields:\n",
    "        if field.value is not None:\n",
    "            for val_node in field.as_value_list:\n",
    "                if isinstance(field.type, ASDLCompositeType):\n",
    "                    to_dict(val_node,this_dict['children'])\n",
    "                else:\n",
    "                    to_dict(str(val_node),this_dict['children'])    \n",
    "to_dict(asdl_ast,rst_list)"
   ]
  },
  {
   "cell_type": "code",
   "execution_count": 23,
   "metadata": {},
   "outputs": [
    {
     "data": {
      "text/plain": [
       "{'name': 'Expr',\n",
       " 'children': [{'name': 'Call',\n",
       "   'children': [{'name': 'Attribute',\n",
       "     'children': [{'name': 'Name',\n",
       "       'children': [{'name': 'pandas', 'children': []}]},\n",
       "      {'name': 'read', 'children': []}]},\n",
       "    {'name': 'Str', 'children': [{'name': 'file.csv', 'children': []}]},\n",
       "    {'name': 'keyword',\n",
       "     'children': [{'name': 'nrows', 'children': []},\n",
       "      {'name': 'Num', 'children': [{'name': '100', 'children': []}]}]}]}]}"
      ]
     },
     "execution_count": 23,
     "metadata": {},
     "output_type": "execute_result"
    }
   ],
   "source": [
    "rst_list[0]"
   ]
  },
  {
   "cell_type": "code",
   "execution_count": 13,
   "metadata": {},
   "outputs": [
    {
     "name": "stdout",
     "output_type": "stream",
     "text": [
      "{0: 1}\n"
     ]
    }
   ],
   "source": [
    "x = []\n",
    "y = {}\n",
    "x.append(y)\n",
    "y[0] = 1\n",
    "print(x[0])"
   ]
  },
  {
   "cell_type": "code",
   "execution_count": 36,
   "metadata": {},
   "outputs": [],
   "source": [
    "py_code = '''\n",
    "for i in range(10):\n",
    "\tprint(\"hello world\")\n",
    "for i in range(10):\n",
    "\tprint(\"hello world\")\n",
    "for i in range(10):\n",
    "\tprint(\"hello world\")\n",
    "a = [100]\n",
    "print(a)'''"
   ]
  },
  {
   "cell_type": "code",
   "execution_count": 37,
   "metadata": {},
   "outputs": [],
   "source": [
    "py_ast = ast.parse(py_code)"
   ]
  },
  {
   "cell_type": "code",
   "execution_count": 40,
   "metadata": {},
   "outputs": [
    {
     "data": {
      "text/plain": [
       "[<_ast.For at 0x25c5dbcd908>,\n",
       " <_ast.For at 0x25c5dbcd390>,\n",
       " <_ast.For at 0x25c5dbcdba8>,\n",
       " <_ast.Assign at 0x25c5dbcd710>,\n",
       " <_ast.Expr at 0x25c5dbcd550>]"
      ]
     },
     "execution_count": 40,
     "metadata": {},
     "output_type": "execute_result"
    }
   ],
   "source": [
    "py_ast.body"
   ]
  },
  {
   "cell_type": "code",
   "execution_count": 32,
   "metadata": {},
   "outputs": [],
   "source": [
    "asdl_ast = python_ast_to_asdl_ast(py_ast.body[0], grammar)"
   ]
  },
  {
   "cell_type": "code",
   "execution_count": 33,
   "metadata": {},
   "outputs": [],
   "source": [
    "rst_list = []\n",
    "def to_dict(node,add_list):\n",
    "    if type(node) == type(\" \"):\n",
    "        add_list.append({'name':node,'children':[]})\n",
    "        return\n",
    "    this_dict = {'name':node.production.constructor.name,'children':[]}\n",
    "    add_list.append(this_dict)\n",
    "    for field in node.fields:\n",
    "        if field.value is not None:\n",
    "            for val_node in field.as_value_list:\n",
    "                if isinstance(field.type, ASDLCompositeType):\n",
    "                    to_dict(val_node,this_dict['children'])\n",
    "                else:\n",
    "                    to_dict(str(val_node),this_dict['children'])    \n",
    "to_dict(asdl_ast,rst_list)"
   ]
  },
  {
   "cell_type": "code",
   "execution_count": 34,
   "metadata": {},
   "outputs": [
    {
     "data": {
      "text/plain": [
       "[{'name': 'Assign',\n",
       "  'children': [{'name': 'Name', 'children': [{'name': 'a', 'children': []}]},\n",
       "   {'name': 'List',\n",
       "    'children': [{'name': 'Num',\n",
       "      'children': [{'name': '100', 'children': []}]}]}]}]"
      ]
     },
     "execution_count": 34,
     "metadata": {},
     "output_type": "execute_result"
    }
   ],
   "source": [
    "rst_list"
   ]
  },
  {
   "cell_type": "code",
   "execution_count": null,
   "metadata": {},
   "outputs": [],
   "source": []
  }
 ],
 "metadata": {
  "kernelspec": {
   "display_name": "Python 3",
   "language": "python",
   "name": "python3"
  },
  "language_info": {
   "codemirror_mode": {
    "name": "ipython",
    "version": 3
   },
   "file_extension": ".py",
   "mimetype": "text/x-python",
   "name": "python",
   "nbconvert_exporter": "python",
   "pygments_lexer": "ipython3",
   "version": "3.6.2"
  }
 },
 "nbformat": 4,
 "nbformat_minor": 2
}
