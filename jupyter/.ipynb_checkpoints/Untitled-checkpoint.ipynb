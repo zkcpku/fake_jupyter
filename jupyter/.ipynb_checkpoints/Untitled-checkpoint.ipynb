{
 "cells": [
  {
   "cell_type": "code",
   "execution_count": 1,
   "metadata": {},
   "outputs": [],
   "source": [
    "import code"
   ]
  },
  {
   "cell_type": "code",
   "execution_count": 2,
   "metadata": {},
   "outputs": [],
   "source": [
    "import sys\n",
    "import traceback"
   ]
  },
  {
   "cell_type": "code",
   "execution_count": 3,
   "metadata": {},
   "outputs": [
    {
     "name": "stdout",
     "output_type": "stream",
     "text": [
      "The Zen of Python, by Tim Peters\n",
      "\n",
      "Beautiful is better than ugly.\n",
      "Explicit is better than implicit.\n",
      "Simple is better than complex.\n",
      "Complex is better than complicated.\n",
      "Flat is better than nested.\n",
      "Sparse is better than dense.\n",
      "Readability counts.\n",
      "Special cases aren't special enough to break the rules.\n",
      "Although practicality beats purity.\n",
      "Errors should never pass silently.\n",
      "Unless explicitly silenced.\n",
      "In the face of ambiguity, refuse the temptation to guess.\n",
      "There should be one-- and preferably only one --obvious way to do it.\n",
      "Although that way may not be obvious at first unless you're Dutch.\n",
      "Now is better than never.\n",
      "Although never is often better than *right* now.\n",
      "If the implementation is hard to explain, it's a bad idea.\n",
      "If the implementation is easy to explain, it may be a good idea.\n",
      "Namespaces are one honking great idea -- let's do more of those!\n",
      "hello world\n"
     ]
    }
   ],
   "source": [
    "import this\n",
    "print(\"hello world\")"
   ]
  },
  {
   "cell_type": "code",
   "execution_count": 1,
   "metadata": {},
   "outputs": [],
   "source": [
    "x = 1"
   ]
  },
  {
   "cell_type": "code",
   "execution_count": 4,
   "metadata": {},
   "outputs": [
    {
     "data": {
      "text/plain": [
       "['In',\n",
       " 'Out',\n",
       " '_',\n",
       " '__',\n",
       " '___',\n",
       " '__builtin__',\n",
       " '__builtins__',\n",
       " '__doc__',\n",
       " '__loader__',\n",
       " '__name__',\n",
       " '__package__',\n",
       " '__spec__',\n",
       " '_dh',\n",
       " '_i',\n",
       " '_i1',\n",
       " '_i2',\n",
       " '_i3',\n",
       " '_i4',\n",
       " '_ih',\n",
       " '_ii',\n",
       " '_iii',\n",
       " '_oh',\n",
       " '_sh',\n",
       " 'code',\n",
       " 'exit',\n",
       " 'get_ipython',\n",
       " 'quit',\n",
       " 'sys',\n",
       " 'this',\n",
       " 'traceback']"
      ]
     },
     "execution_count": 4,
     "metadata": {},
     "output_type": "execute_result"
    }
   ],
   "source": [
    "dir()"
   ]
  },
  {
   "cell_type": "code",
   "execution_count": 5,
   "metadata": {},
   "outputs": [
    {
     "data": {
      "text/plain": [
       "dict_keys(['__name__', '__doc__', '__package__', '__loader__', '__spec__', '__builtin__', '__builtins__', '_ih', '_oh', '_dh', '_sh', 'In', 'Out', 'get_ipython', 'exit', 'quit', '_', '__', '___', '_i', '_ii', '_iii', '_i1', 'code', '_i2', 'sys', 'traceback', '_i3', 'this', '_i4', '_4', '_i5'])"
      ]
     },
     "execution_count": 5,
     "metadata": {},
     "output_type": "execute_result"
    }
   ],
   "source": [
    "locals().keys()"
   ]
  },
  {
   "cell_type": "code",
   "execution_count": 9,
   "metadata": {},
   "outputs": [],
   "source": [
    "import pdb"
   ]
  },
  {
   "cell_type": "code",
   "execution_count": 10,
   "metadata": {},
   "outputs": [
    {
     "name": "stdout",
     "output_type": "stream",
     "text": [
      "> <string>(1)<module>()\n",
      "(Pdb) f\n",
      "*** NameError: name 'f' is not defined\n",
      "(Pdb) e\n",
      "*** NameError: name 'e' is not defined\n",
      "(Pdb) q\n"
     ]
    }
   ],
   "source": [
    "pdb.run('print(\"hello\")')"
   ]
  },
  {
   "cell_type": "code",
   "execution_count": 11,
   "metadata": {},
   "outputs": [],
   "source": [
    "import code"
   ]
  },
  {
   "cell_type": "code",
   "execution_count": 16,
   "metadata": {},
   "outputs": [],
   "source": [
    "mycode = 'print(\"hello\")'"
   ]
  },
  {
   "cell_type": "code",
   "execution_count": 103,
   "metadata": {},
   "outputs": [],
   "source": [
    "new_console = code.InteractiveInterpreter()"
   ]
  },
  {
   "cell_type": "code",
   "execution_count": 105,
   "metadata": {},
   "outputs": [],
   "source": [
    "import subprocess"
   ]
  },
  {
   "cell_type": "code",
   "execution_count": null,
   "metadata": {},
   "outputs": [],
   "source": [
    "subprocess()"
   ]
  },
  {
   "cell_type": "code",
   "execution_count": 106,
   "metadata": {},
   "outputs": [],
   "source": [
    "class myPython(code.InteractiveInterpreter):\n",
    "    \"\"\"docstring for myPython\"\"\"\n",
    "    def __init__(self):\n",
    "        super(myPython, self).__init__()\n",
    "        self.error_data = []\n",
    "    def runsource(self, source, filename=\"<input>\", symbol=\"single\"):\n",
    "        \"\"\"Compile and run some source in the interpreter.\n",
    "        Arguments are as for compile_command().\n",
    "        One several things can happen:\n",
    "        1) The input is incorrect; compile_command() raised an\n",
    "        exception (SyntaxError or OverflowError).  A syntax traceback\n",
    "        will be printed by calling the showsyntaxerror() method.\n",
    "        2) The input is incomplete, and more input is required;\n",
    "        compile_command() returned None.  Nothing happens.\n",
    "        3) The input is complete; compile_command() returned a code\n",
    "        object.  The code is executed by calling self.runcode() (which\n",
    "        also handles run-time exceptions, except for SystemExit).\n",
    "        The return value is True in case 2, False in the other cases (unless\n",
    "        an exception is raised).  The return value can be used to\n",
    "        decide whether to use sys.ps1 or sys.ps2 to prompt the next\n",
    "        line.\n",
    "        \"\"\"\n",
    "        print(\"debug\")\n",
    "        try:\n",
    "            code = self.compile(source, filename, symbol)\n",
    "        except (OverflowError, SyntaxError, ValueError):\n",
    "            # Case 1\n",
    "            print(\"debug\")\n",
    "            self.showsyntaxerror(filename)\n",
    "            return False\n",
    "\n",
    "        if code is None:\n",
    "            # Case 2\n",
    "            return True\n",
    "\n",
    "        # Case 3\n",
    "        self.runcode(code)\n",
    "#         print(code)\n",
    "        return False\n",
    "    \n",
    "    def showsyntaxerror(self, filename=None):\n",
    "        \"\"\"Display the syntax error that just occurred.\n",
    "        This doesn't display a stack trace because there isn't one.\n",
    "        If a filename is given, it is stuffed in the exception instead\n",
    "        of what was there before (because Python's parser always uses\n",
    "        \"<string>\" when reading from a string).\n",
    "        The output is written by self.write(), below.\n",
    "        \"\"\"\n",
    "        type, value, tb = sys.exc_info()\n",
    "        sys.last_type = type\n",
    "        sys.last_value = value\n",
    "        sys.last_traceback = tb\n",
    "        print(\"debug\")\n",
    "        if filename and type is SyntaxError:\n",
    "            # Work hard to stuff the correct filename in the exception\n",
    "            try:\n",
    "                msg, (dummy_filename, lineno, offset, line) = value.args\n",
    "            except ValueError:\n",
    "                # Not the format we expect; leave it alone\n",
    "                pass\n",
    "            else:\n",
    "                print(\"debug\")\n",
    "                # Stuff in the right filename\n",
    "                value = SyntaxError(msg, (filename, lineno, offset, line))\n",
    "                print(msg)\n",
    "                sys.last_value = value\n",
    "        if sys.excepthook is sys.__excepthook__:\n",
    "#             print(\"debug\")\n",
    "            lines = traceback.format_exception_only(type, value)\n",
    "            self.write(''.join(lines))\n",
    "        else:\n",
    "            print(\"debug\")\n",
    "            # If someone has set sys.excepthook, we let that take precedence # 坑爹呀！！！！\n",
    "            # over self.write\n",
    "            lines = traceback.format_exception_only(type, value)\n",
    "            print(''.join(lines))\n",
    "            print(\"type:\",type)\n",
    "            print(\"value:\",value)\n",
    "            print(\"end\")\n",
    "            \n",
    "#             sys.excepthook(type, value, tb)\n",
    "    def runcode(self, code):\n",
    "        \"\"\"Execute a code object.\n",
    "        When an exception occurs, self.showtraceback() is called to\n",
    "        display a traceback.  All exceptions are caught except\n",
    "        SystemExit, which is reraised.\n",
    "        A note about KeyboardInterrupt: this exception may occur\n",
    "        elsewhere in this code, and may not always be caught.  The\n",
    "        caller should be prepared to deal with it.\n",
    "        \"\"\"\n",
    "        try:\n",
    "#             print(\"debug runcode\")\n",
    "#             print(self.locals)\n",
    "            new_code = 'exec(code, self.locals)'\n",
    "#             out = exec(code, self.locals)\n",
    "#             print(\"out:\",out)\n",
    "            codeproc = subprocess.Popen(new_code, stdout=subprocess.PIPE)\n",
    "            print('out:',codeproc.stdout.read())\n",
    "        except SystemExit:\n",
    "            print(\"debug runcode\")\n",
    "            raise\n",
    "        except:\n",
    "            print(\"debug runcode\")\n",
    "            self.showtraceback()\n",
    "    def showtraceback(self):\n",
    "        \"\"\"Display the exception that just occurred.\n",
    "        We remove the first stack item because it is our own code.\n",
    "        The output is written by self.write(), below.\n",
    "        \"\"\"\n",
    "        sys.last_type, sys.last_value, last_tb = ei = sys.exc_info()\n",
    "        sys.last_traceback = last_tb\n",
    "        try:\n",
    "            lines = traceback.format_exception(ei[0], ei[1], last_tb.tb_next)\n",
    "            if sys.excepthook is sys.__excepthook__:\n",
    "                self.write(''.join(lines))\n",
    "            else:\n",
    "                # If someone has set sys.excepthook, we let that take precedence\n",
    "                # over self.write\n",
    "\n",
    "                print(''.join(lines))\n",
    "        finally:\n",
    "            last_tb = ei = None\n",
    "            \n",
    "    def write(self,data):\n",
    "        print(data)\n",
    "        self.error_data.append(data)\n",
    "        sys.stderr.write(data)\n",
    "#         return data"
   ]
  },
  {
   "cell_type": "code",
   "execution_count": 107,
   "metadata": {},
   "outputs": [],
   "source": [
    "new_console = myPython()"
   ]
  },
  {
   "cell_type": "code",
   "execution_count": 108,
   "metadata": {},
   "outputs": [
    {
     "data": {
      "text/plain": [
       "<bound method InteractiveShell.excepthook of <ipykernel.zmqshell.ZMQInteractiveShell object at 0x00000222D8594CF8>>"
      ]
     },
     "execution_count": 108,
     "metadata": {},
     "output_type": "execute_result"
    }
   ],
   "source": [
    "sys.excepthook"
   ]
  },
  {
   "cell_type": "code",
   "execution_count": 109,
   "metadata": {},
   "outputs": [
    {
     "data": {
      "text/plain": [
       "<function sys.excepthook>"
      ]
     },
     "execution_count": 109,
     "metadata": {},
     "output_type": "execute_result"
    }
   ],
   "source": [
    "sys.__excepthook__"
   ]
  },
  {
   "cell_type": "code",
   "execution_count": 110,
   "metadata": {
    "scrolled": true
   },
   "outputs": [
    {
     "name": "stdout",
     "output_type": "stream",
     "text": [
      "debug\n",
      "debug runcode\n",
      "Traceback (most recent call last):\n",
      "  File \"c:\\program files\\python36\\lib\\subprocess.py\", line 707, in __init__\n",
      "    restore_signals, start_new_session)\n",
      "  File \"c:\\program files\\python36\\lib\\subprocess.py\", line 992, in _execute_child\n",
      "    startupinfo)\n",
      "FileNotFoundError: [WinError 2] 系统找不到指定的文件。\n",
      "\n"
     ]
    },
    {
     "data": {
      "text/plain": [
       "False"
      ]
     },
     "execution_count": 110,
     "metadata": {},
     "output_type": "execute_result"
    }
   ],
   "source": [
    "new_console.runsource('')"
   ]
  },
  {
   "cell_type": "code",
   "execution_count": 111,
   "metadata": {},
   "outputs": [],
   "source": [
    "next_console =  myPython()"
   ]
  },
  {
   "cell_type": "code",
   "execution_count": null,
   "metadata": {},
   "outputs": [],
   "source": []
  },
  {
   "cell_type": "code",
   "execution_count": 112,
   "metadata": {},
   "outputs": [
    {
     "name": "stdout",
     "output_type": "stream",
     "text": [
      "debug\n",
      "debug runcode\n",
      "Traceback (most recent call last):\n",
      "  File \"c:\\program files\\python36\\lib\\subprocess.py\", line 707, in __init__\n",
      "    restore_signals, start_new_session)\n",
      "  File \"c:\\program files\\python36\\lib\\subprocess.py\", line 992, in _execute_child\n",
      "    startupinfo)\n",
      "FileNotFoundError: [WinError 2] 系统找不到指定的文件。\n",
      "\n"
     ]
    },
    {
     "data": {
      "text/plain": [
       "False"
      ]
     },
     "execution_count": 112,
     "metadata": {},
     "output_type": "execute_result"
    }
   ],
   "source": [
    "next_console.runsource('locals().keys()')"
   ]
  },
  {
   "cell_type": "code",
   "execution_count": 65,
   "metadata": {
    "scrolled": true
   },
   "outputs": [
    {
     "data": {
      "text/plain": [
       "[]"
      ]
     },
     "execution_count": 65,
     "metadata": {},
     "output_type": "execute_result"
    }
   ],
   "source": [
    "new_console.error_data"
   ]
  },
  {
   "cell_type": "code",
   "execution_count": 66,
   "metadata": {},
   "outputs": [
    {
     "name": "stderr",
     "output_type": "stream",
     "text": [
      "No traceback available to show.\n"
     ]
    }
   ],
   "source": [
    "new_console.showsyntaxerror()"
   ]
  },
  {
   "cell_type": "code",
   "execution_count": 67,
   "metadata": {},
   "outputs": [
    {
     "data": {
      "text/plain": [
       "[]"
      ]
     },
     "execution_count": 67,
     "metadata": {},
     "output_type": "execute_result"
    }
   ],
   "source": [
    "new_console.error_data"
   ]
  },
  {
   "cell_type": "code",
   "execution_count": 68,
   "metadata": {},
   "outputs": [
    {
     "name": "stdout",
     "output_type": "stream",
     "text": [
      "x\n"
     ]
    },
    {
     "name": "stderr",
     "output_type": "stream",
     "text": [
      "x"
     ]
    }
   ],
   "source": [
    "new_console.write('x')"
   ]
  },
  {
   "cell_type": "code",
   "execution_count": null,
   "metadata": {},
   "outputs": [],
   "source": []
  },
  {
   "cell_type": "code",
   "execution_count": 117,
   "metadata": {},
   "outputs": [
    {
     "name": "stdout",
     "output_type": "stream",
     "text": [
      "9\n",
      "None\n",
      "got locals: {'tf': <function tf at 0x00000222D8FD8950>, 'r': 9}\n",
      "got return: None\n"
     ]
    }
   ],
   "source": [
    "import ast\n",
    "code = \"\"\"\n",
    "def tf(n):\n",
    "  return n*n\n",
    "r=tf(3)\n",
    "{\"vvv\": tf(5)}\n",
    "print(r)\n",
    "\"\"\"\n",
    "ast_ = ast.parse(code, '<code>', 'exec')\n",
    "final_expr = None\n",
    "for field_ in ast.iter_fields(ast_):\n",
    "    if 'body' != field_[0]: continue\n",
    "    if len(field_[1]) > 0 and isinstance(field_[1][-1], ast.Expr):\n",
    "        final_expr = ast.Expression()\n",
    "        final_expr.body = field_[1].pop().value\n",
    "ld = {}\n",
    "rv = None\n",
    "exec(compile(ast_, '<code>', 'exec'), None, ld)\n",
    "if final_expr:\n",
    "    rv = eval(compile(final_expr, '<code>', 'eval'), None, ld)\n",
    "#     print(rv)\n",
    "print('got locals: {}'.format(ld))\n",
    "print('got return: {}'.format(rv))"
   ]
  },
  {
   "cell_type": "code",
   "execution_count": 120,
   "metadata": {},
   "outputs": [
    {
     "name": "stdout",
     "output_type": "stream",
     "text": [
      "out: 0\n",
      "1\n",
      "2\n",
      "\n"
     ]
    }
   ],
   "source": [
    "import sys\n",
    "from io import StringIO\n",
    "import contextlib\n",
    "\n",
    "@contextlib.contextmanager\n",
    "def stdoutIO(stdout=None):\n",
    "    old = sys.stdout\n",
    "    if stdout is None:\n",
    "        stdout = StringIO()\n",
    "    sys.stdout = stdout\n",
    "    yield stdout\n",
    "    sys.stdout = old\n",
    "\n",
    "code = \"\"\"\n",
    "i = [0,1,2]\n",
    "for j in i :\n",
    "    print(j)\n",
    "{1,2}\n",
    "\"\"\"\n",
    "with stdoutIO() as s:\n",
    "    try:\n",
    "        exec(code)\n",
    "    except:\n",
    "        print(\"Something wrong with the code\")\n",
    "print(\"out:\", s.getvalue())"
   ]
  },
  {
   "cell_type": "code",
   "execution_count": 121,
   "metadata": {},
   "outputs": [],
   "source": [
    "import random"
   ]
  },
  {
   "cell_type": "code",
   "execution_count": 123,
   "metadata": {},
   "outputs": [
    {
     "data": {
      "text/plain": [
       "0.38332493218851005"
      ]
     },
     "execution_count": 123,
     "metadata": {},
     "output_type": "execute_result"
    }
   ],
   "source": []
  },
  {
   "cell_type": "code",
   "execution_count": null,
   "metadata": {},
   "outputs": [],
   "source": []
  }
 ],
 "metadata": {
  "kernelspec": {
   "display_name": "Python 3",
   "language": "python",
   "name": "python3"
  },
  "language_info": {
   "codemirror_mode": {
    "name": "ipython",
    "version": 3
   },
   "file_extension": ".py",
   "mimetype": "text/x-python",
   "name": "python",
   "nbconvert_exporter": "python",
   "pygments_lexer": "ipython3",
   "version": "3.6.2"
  }
 },
 "nbformat": 4,
 "nbformat_minor": 2
}
