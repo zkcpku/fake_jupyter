{
 "cells": [
  {
   "cell_type": "code",
   "execution_count": 8,
   "metadata": {},
   "outputs": [],
   "source": [
    "import ast\n",
    "import astor"
   ]
  },
  {
   "cell_type": "code",
   "execution_count": 38,
   "metadata": {},
   "outputs": [],
   "source": [
    "code = \"\"\"i=[0,1,2]\n",
    "for j in i :\n",
    "  print(j)\n",
    "print(x)\n",
    "\"\"\""
   ]
  },
  {
   "cell_type": "code",
   "execution_count": 20,
   "metadata": {},
   "outputs": [],
   "source": [
    "from collections import defaultdict"
   ]
  },
  {
   "cell_type": "code",
   "execution_count": 3,
   "metadata": {},
   "outputs": [
    {
     "data": {
      "text/plain": [
       "'i=[0,1,2]\\nfor j in i :\\n  # print(x)\\n  # print(y)\\n  print(j)\\nprint(x)\\n'"
      ]
     },
     "execution_count": 3,
     "metadata": {},
     "output_type": "execute_result"
    }
   ],
   "source": [
    "code"
   ]
  },
  {
   "cell_type": "code",
   "execution_count": 5,
   "metadata": {},
   "outputs": [],
   "source": [
    "tree = ast.parse(code)"
   ]
  },
  {
   "cell_type": "code",
   "execution_count": 7,
   "metadata": {},
   "outputs": [
    {
     "data": {
      "text/plain": [
       "<_ast.Assign at 0x181d571f0b8>"
      ]
     },
     "execution_count": 7,
     "metadata": {},
     "output_type": "execute_result"
    }
   ],
   "source": [
    "tree.body[0]"
   ]
  },
  {
   "cell_type": "code",
   "execution_count": 10,
   "metadata": {},
   "outputs": [],
   "source": [
    "src1 = astor.to_source(tree).strip()"
   ]
  },
  {
   "cell_type": "code",
   "execution_count": 11,
   "metadata": {},
   "outputs": [
    {
     "data": {
      "text/plain": [
       "'i = [0, 1, 2]\\nfor j in i:\\n    print(j)\\nprint(x)'"
      ]
     },
     "execution_count": 11,
     "metadata": {},
     "output_type": "execute_result"
    }
   ],
   "source": [
    "src1"
   ]
  },
  {
   "cell_type": "code",
   "execution_count": 15,
   "metadata": {},
   "outputs": [
    {
     "data": {
      "text/plain": [
       "{'targets': [<_ast.Name at 0x181d571f5f8>],\n",
       " 'value': <_ast.List at 0x181d571f630>,\n",
       " 'lineno': 1,\n",
       " 'col_offset': 0}"
      ]
     },
     "execution_count": 15,
     "metadata": {},
     "output_type": "execute_result"
    }
   ],
   "source": [
    "tree.body[0].__dict__"
   ]
  },
  {
   "cell_type": "code",
   "execution_count": 21,
   "metadata": {},
   "outputs": [],
   "source": [
    "class AstGraphGenerator(object):\n",
    "\n",
    "    def __init__(self, source):\n",
    "        self.graph = defaultdict(lambda: [])\n",
    "        self.source = source  # lines of the source code\n",
    "\n",
    "    def __str__(self):\n",
    "        return str(self.graph)\n",
    "\n",
    "    def _getid(self, node):\n",
    "        try:\n",
    "            lineno = node.lineno - 1\n",
    "            return \"%s: %s\" % (type(node), self.source[lineno].strip())\n",
    "\n",
    "        except AttributeError:\n",
    "            return type(node)\n",
    "\n",
    "    def visit(self, node):\n",
    "        \"\"\"Visit a node.\"\"\"\n",
    "        method = 'visit_' + node.__class__.__name__\n",
    "        visitor = getattr(self, method, self.generic_visit)\n",
    "        return visitor(node)\n",
    "\n",
    "    def generic_visit(self, node):\n",
    "        \"\"\"Called if no explicit visitor function exists for a node.\"\"\"\n",
    "        for _, value in ast.iter_fields(node):\n",
    "            if isinstance(value, list):\n",
    "                for item in value:\n",
    "                    if isinstance(item, ast.AST):\n",
    "                        self.visit(item)\n",
    "\n",
    "            elif isinstance(value, ast.AST):\n",
    "                node_source = self._getid(node)\n",
    "                value_source = self._getid(value)\n",
    "                self.graph[node_source].append(value_source)\n",
    "                # self.graph[type(node)].append(type(value))\n",
    "                self.visit(value)"
   ]
  },
  {
   "cell_type": "code",
   "execution_count": 22,
   "metadata": {},
   "outputs": [],
   "source": [
    "mytree = AstGraphGenerator(code)"
   ]
  },
  {
   "cell_type": "code",
   "execution_count": 24,
   "metadata": {},
   "outputs": [],
   "source": [
    "mytree.generic_visit(tree.body[0])"
   ]
  },
  {
   "cell_type": "code",
   "execution_count": 26,
   "metadata": {},
   "outputs": [
    {
     "name": "stdout",
     "output_type": "stream",
     "text": [
      "defaultdict(<function AstGraphGenerator.__init__.<locals>.<lambda> at 0x00000181D57DFAE8>, {\"<class '_ast.Name'>: i\": [<class '_ast.Store'>], \"<class '_ast.Assign'>: i\": [\"<class '_ast.List'>: i\"], \"<class '_ast.List'>: i\": [<class '_ast.Load'>]})\n"
     ]
    }
   ],
   "source": [
    "print(mytree)"
   ]
  },
  {
   "cell_type": "code",
   "execution_count": 28,
   "metadata": {},
   "outputs": [
    {
     "name": "stdout",
     "output_type": "stream",
     "text": [
      "<_ast.Module object at 0x00000181D571F128>\n",
      "<_ast.Assign object at 0x00000181D571F0B8>\n",
      "<_ast.For object at 0x00000181D571F710>\n",
      "<_ast.Expr object at 0x00000181D571F898>\n",
      "<_ast.Name object at 0x00000181D571F5F8>\n",
      "<_ast.List object at 0x00000181D571F630>\n",
      "<_ast.Name object at 0x00000181D571F748>\n",
      "<_ast.Name object at 0x00000181D571F780>\n",
      "<_ast.Expr object at 0x00000181D571F7B8>\n",
      "<_ast.Call object at 0x00000181D571F8D0>\n",
      "<_ast.Store object at 0x00000181D2DF4860>\n",
      "<_ast.Num object at 0x00000181D571F668>\n",
      "<_ast.Num object at 0x00000181D571F6A0>\n",
      "<_ast.Num object at 0x00000181D571F6D8>\n",
      "<_ast.Load object at 0x00000181D2DF4748>\n",
      "<_ast.Store object at 0x00000181D2DF4860>\n",
      "<_ast.Load object at 0x00000181D2DF4748>\n",
      "<_ast.Call object at 0x00000181D571F7F0>\n",
      "<_ast.Name object at 0x00000181D571F908>\n",
      "<_ast.Name object at 0x00000181D571F940>\n",
      "<_ast.Name object at 0x00000181D571F828>\n",
      "<_ast.Name object at 0x00000181D571F860>\n",
      "<_ast.Load object at 0x00000181D2DF4748>\n",
      "<_ast.Load object at 0x00000181D2DF4748>\n",
      "<_ast.Load object at 0x00000181D2DF4748>\n",
      "<_ast.Load object at 0x00000181D2DF4748>\n"
     ]
    }
   ],
   "source": [
    "for node in ast.walk(tree):\n",
    "    print(node)\n",
    "    if isinstance(node, ast.FunctionDef):\n",
    "        print(node.name)"
   ]
  },
  {
   "cell_type": "code",
   "execution_count": 30,
   "metadata": {},
   "outputs": [],
   "source": [
    "vst = ast.NodeVisitor()"
   ]
  },
  {
   "cell_type": "code",
   "execution_count": 31,
   "metadata": {},
   "outputs": [],
   "source": [
    "vst.generic_visit(tree)"
   ]
  },
  {
   "cell_type": "code",
   "execution_count": 35,
   "metadata": {},
   "outputs": [
    {
     "data": {
      "text/plain": [
       "\"Assign(targets=[Name(id='i', ctx=Store())], value=List(elts=[Num(n=0), Num(n=1), Num(n=2)], ctx=Load()))\""
      ]
     },
     "execution_count": 35,
     "metadata": {},
     "output_type": "execute_result"
    }
   ],
   "source": [
    "ast.dump(tree.body[0])"
   ]
  },
  {
   "cell_type": "code",
   "execution_count": 43,
   "metadata": {},
   "outputs": [
    {
     "name": "stdout",
     "output_type": "stream",
     "text": [
      "Module(body=[<_ast.Assign object at 0x00000181D5755BA8>, <_ast.For object at 0x00000181D571FBA8>, <_ast.Expr object at 0x00000181D57F0278>])\n",
      "  Assign(targets=[<_ast.Name object at 0x00000181D571FC50>], value=List(elts=[<_ast.Num object at 0x00000181D571FC18>, <_ast.Num object at 0x00000181D571F588>, <_ast.Num object at 0x00000181D571FBE0>], ctx=Load()))\n",
      "    Name(id='i', ctx=Store())\n",
      "      Store()\n",
      "    List(elts=[<_ast.Num object at 0x00000181D571FC18>, <_ast.Num object at 0x00000181D571F588>, <_ast.Num object at 0x00000181D571FBE0>], ctx=Load())\n",
      "      Num(n=0)\n",
      "      Num(n=1)\n",
      "      Num(n=2)\n",
      "      Load()\n",
      "  For(target=Name(id='j', ctx=Store()), iter=Name(id='i', ctx=Load()), body=[<_ast.Expr object at 0x00000181D571F9B0>], orelse=[])\n",
      "    Name(id='j', ctx=Store())\n",
      "      Store()\n",
      "    Name(id='i', ctx=Load())\n",
      "      Load()\n",
      "    Expr(value=Call(func=Name(id='print', ctx=Load()), args=[<_ast.Name object at 0x00000181D57F0748>], keywords=[]))\n",
      "      Call(func=Name(id='print', ctx=Load()), args=[<_ast.Name object at 0x00000181D57F0748>], keywords=[])\n",
      "        Name(id='print', ctx=Load())\n",
      "          Load()\n",
      "        Name(id='j', ctx=Load())\n",
      "          Load()\n",
      "  Expr(value=Call(func=Name(id='print', ctx=Load()), args=[<_ast.Name object at 0x00000181D57F0CC0>], keywords=[]))\n",
      "    Call(func=Name(id='print', ctx=Load()), args=[<_ast.Name object at 0x00000181D57F0CC0>], keywords=[])\n",
      "      Name(id='print', ctx=Load())\n",
      "        Load()\n",
      "      Name(id='x', ctx=Load())\n",
      "        Load()\n"
     ]
    }
   ],
   "source": [
    "import ast\n",
    "def str_node(node):\n",
    "    if isinstance(node, ast.AST):\n",
    "        fields = [(name, str_node(val)) for name, val in ast.iter_fields(node) if name not in ('left', 'right')]\n",
    "        rv = '%s(%s' % (node.__class__.__name__, ', '.join('%s=%s' % field for field in fields))\n",
    "#         return rv + ')'\n",
    "        return repr(node)\n",
    "#         return 'ast'\n",
    "    else:\n",
    "        return repr(node)\n",
    "def ast_visit(node, level=0):\n",
    "    print('  ' * level + str_node(node))\n",
    "    for field, value in ast.iter_fields(node):\n",
    "        if isinstance(value, list):\n",
    "            for item in value:\n",
    "                if isinstance(item, ast.AST):\n",
    "                    ast_visit(item, level=level+1)\n",
    "        elif isinstance(value, ast.AST):\n",
    "            ast_visit(value, level=level+1)\n",
    "\n",
    "\n",
    "ast_visit(ast.parse(code))"
   ]
  },
  {
   "cell_type": "code",
   "execution_count": null,
   "metadata": {},
   "outputs": [],
   "source": []
  }
 ],
 "metadata": {
  "kernelspec": {
   "display_name": "Python 3",
   "language": "python",
   "name": "python3"
  },
  "language_info": {
   "codemirror_mode": {
    "name": "ipython",
    "version": 3
   },
   "file_extension": ".py",
   "mimetype": "text/x-python",
   "name": "python",
   "nbconvert_exporter": "python",
   "pygments_lexer": "ipython3",
   "version": "3.6.2"
  }
 },
 "nbformat": 4,
 "nbformat_minor": 2
}
